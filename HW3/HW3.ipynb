{
 "cells": [
  {
   "cell_type": "markdown",
   "metadata": {},
   "source": [
    "#Without Memoization (Recursive Top-Down Procedure)"
   ]
  },
  {
   "cell_type": "code",
   "execution_count": 22,
   "metadata": {},
   "outputs": [],
   "source": [
    "#Recursive Top-Down implementation of Fib()\n",
    "def Fib(n):\n",
    "    if n < 0:\n",
    "        print(\"incorrect input\") #negative input\n",
    "    elif n == 0 or n == 1:\n",
    "        return n #base case\n",
    "    else:\n",
    "        return Fib(n-1) + Fib(n-2) #By definition of fibonacci series, Fib() calls Fib(n-1) and Fib(n-2)"
   ]
  },
  {
   "cell_type": "code",
   "execution_count": 36,
   "metadata": {},
   "outputs": [
    {
     "name": "stdout",
     "output_type": "stream",
     "text": [
      "What fibonacci term would you like to get in a fibonacci sequence?\n",
      "8\n"
     ]
    },
    {
     "data": {
      "text/plain": [
       "21"
      ]
     },
     "execution_count": 36,
     "metadata": {},
     "output_type": "execute_result"
    }
   ],
   "source": [
    "#Taking input from the user to calculate the nth Fibonacci term.\n",
    "n = int(input(\"What fibonacci term would you like to get in a fibonacci sequence?\\n\"))\n",
    "\n",
    "#Calling the Fib() and Displaying the nth term.\n",
    "Fib(n)"
   ]
  },
  {
   "cell_type": "markdown",
   "metadata": {},
   "source": [
    "#Updating the Fib() for part(d) to calculate the number of calls."
   ]
  },
  {
   "cell_type": "code",
   "execution_count": 12,
   "metadata": {},
   "outputs": [],
   "source": [
    "#Same recursive top-down function as above, we just added the functionality to calcuate the number of recursive calls.\n",
    "def Fib(n):\n",
    "    if n < 0:\n",
    "        print(\"incorrect input\") #negative input\n",
    "    elif n == 0:\n",
    "        return (0,1) #1st base case takes 1 call\n",
    "    elif n == 1:\n",
    "        return (1,1) #2nd base case takes 1 call\n",
    "    else:\n",
    "        prev_term1, n_calls_prev1 = Fib(n-1) #(n-1)th term and its corresponding number of recursive calls\n",
    "        prev_term2, n_calls_prev2 = Fib(n-2) #(n-2)th term and its corresponding number of recursive calls\n",
    "        return prev_term1 + prev_term2, n_calls_prev1 + n_calls_prev2 + 1\n",
    "        #(n)th term and its corresponding number of recursive calls including the first call to the function (i.e. +1 term)"
   ]
  },
  {
   "cell_type": "code",
   "execution_count": 14,
   "metadata": {},
   "outputs": [
    {
     "name": "stdout",
     "output_type": "stream",
     "text": [
      "Fibonacci term 9 is 34\n",
      "Number of calls: 109\n",
      "Fibonacci term 10 is 55\n",
      "Number of calls: 177\n",
      "Fibonacci term 11 is 89\n",
      "Number of calls: 287\n",
      "Fibonacci term 12 is 144\n",
      "Number of calls: 465\n",
      "Fibonacci term 13 is 233\n",
      "Number of calls: 753\n",
      "Fibonacci term 14 is 377\n",
      "Number of calls: 1219\n",
      "Fibonacci term 15 is 610\n",
      "Number of calls: 1973\n",
      "Fibonacci term 16 is 987\n",
      "Number of calls: 3193\n",
      "Fibonacci term 17 is 1597\n",
      "Number of calls: 5167\n",
      "Fibonacci term 18 is 2584\n",
      "Number of calls: 8361\n",
      "Fibonacci term 19 is 4181\n",
      "Number of calls: 13529\n",
      "Fibonacci term 20 is 6765\n",
      "Number of calls: 21891\n",
      "Fibonacci term 21 is 10946\n",
      "Number of calls: 35421\n",
      "Fibonacci term 22 is 17711\n",
      "Number of calls: 57313\n"
     ]
    }
   ],
   "source": [
    "#Calculating the number of recursive calls made by the Fib() in a dictionary.\n",
    "#Testing n=9 to n=22.\n",
    "k_v_dict = {k:0 for k in range(9,23)}\n",
    "\n",
    "#iterating over the dictionary to calucate the nth term and number of calls for that n.\n",
    "for k,v in k_v_dict.items():\n",
    "    nth_Fib, n_calls = Fib(k)\n",
    "    k_v_dict[k] = n_calls\n",
    "    print(f\"Fibonacci term {k} is {nth_Fib}\")\n",
    "    print(f\"Number of calls: {n_calls}\")"
   ]
  },
  {
   "cell_type": "markdown",
   "metadata": {},
   "source": [
    "#With Memoization (Iterative Bottom-Up Procedure)"
   ]
  },
  {
   "cell_type": "code",
   "execution_count": 25,
   "metadata": {},
   "outputs": [],
   "source": [
    "#Iterative Bottom-Up implementation of Fib(), we call it as Better_Fib()\n",
    "def Better_Fib(n):\n",
    "    \n",
    "    mem=[0,1] #storing two bases in an array for the memoization.\n",
    "    \n",
    "    for i in range(2,n+1):\n",
    "        mem.append(mem[i-1] + mem[i-2]) #calculating and appending the nth fibonacci term in the array created for memoization\n",
    "    return mem[n] #looking up the nth term in the array"
   ]
  },
  {
   "cell_type": "code",
   "execution_count": 43,
   "metadata": {},
   "outputs": [
    {
     "name": "stdout",
     "output_type": "stream",
     "text": [
      "What fibonacci term would you like to get in a fibonacci sequence?\n",
      "8\n"
     ]
    },
    {
     "data": {
      "text/plain": [
       "21"
      ]
     },
     "execution_count": 43,
     "metadata": {},
     "output_type": "execute_result"
    }
   ],
   "source": [
    "#Taking input from the user to calculate the nth Fibonacci term.\n",
    "n = int(input(\"What fibonacci term would you like to get in a fibonacci sequence?\\n\"))\n",
    "\n",
    "#Calling the Better_Fib() and displaying the nth term.\n",
    "Better_Fib(n)"
   ]
  }
 ],
 "metadata": {
  "kernelspec": {
   "display_name": "Python 3",
   "language": "python",
   "name": "python3"
  },
  "language_info": {
   "codemirror_mode": {
    "name": "ipython",
    "version": 3
   },
   "file_extension": ".py",
   "mimetype": "text/x-python",
   "name": "python",
   "nbconvert_exporter": "python",
   "pygments_lexer": "ipython3",
   "version": "3.7.6"
  }
 },
 "nbformat": 4,
 "nbformat_minor": 4
}
